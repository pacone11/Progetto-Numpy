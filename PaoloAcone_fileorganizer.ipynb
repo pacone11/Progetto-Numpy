{
 "cells": [
  {
   "cell_type": "markdown",
   "metadata": {
    "vscode": {
     "languageId": "html"
    }
   },
   "source": [
    "<h2>PROGETTO MODULI E LIBRERIE PYTHON</h2>\n",
    "<h3>Creazione di un <i>File organizer</i></h3>\n",
    "<p>a cura di Paolo Acone</p>"
   ]
  },
  {
   "cell_type": "markdown",
   "metadata": {},
   "source": [
    "**Step 1**\n",
    "\n",
    "Script Python che itera in ordine alfabetico sui file della cartella files e, a seconda del tipo (audio, documento, immagine), li sposta nella relativa sottocartella. Se la sottocartella non esiste, lo script la crea automaticamente.\n",
    "\n",
    "Durante il ciclo, lo script stampa le informazioni dei file: nome, tipo e dimensione in byte. \n",
    "\n",
    "Man mano che i file vengono  spostati, il documento *recap.csv* viene aggiornato con le stesse informazioni. \n"
   ]
  },
  {
   "cell_type": "code",
   "execution_count": null,
   "metadata": {},
   "outputs": [],
   "source": [
    "import os   #Il modulo os in Python fornisce un'interfaccia per interagire con il sistema operativo sottostante. In pratica, ti permette di eseguire operazioni sul tuo computer come se stessi usando il terminale o un'interfaccia grafica, ma direttamente dal tuo codice Python.\n",
    "import shutil   #Il modulo shutil in Python offre una serie di funzioni di alto livello per eseguire operazioni su file e directory in modo più semplice e intuitivo rispetto al modulo os. In sostanza, shutil ti permette di copiare, spostare, rinominare e eliminare file e intere directory con poche righe di codice.\n",
    "import csv  #Il modulo csv in Python fornisce strumenti per leggere e scrivere dati in formato CSV (Comma-Separated Values). All'interno di questo modulo, la classe csv.writer è specificamente progettata per scrivere dati in un file CSV.\n",
    "\n",
    "\n",
    "folder_path= \"files\"\n",
    "folder_list= sorted(os.listdir(folder_path))\n",
    "recap_file = os.path.join(folder_path, \"recap.csv\")\n",
    "\n",
    "# Verifica se il file recap.csv esiste già, altrimenti crea e scrive l'intestazione\n",
    "if not os.path.exists(recap_file):\n",
    "    with open(recap_file, mode='w', newline='', encoding='utf-8') as csvfile:\n",
    "        writer = csv.writer(csvfile)\n",
    "        writer.writerow(['file_name','type','size(B)'])  # Intestazione del CSV\n",
    "        \n",
    "# Definizione dei gruppi di file\n",
    "file_groups = {\n",
    "    'img': ['jpg', 'jpeg', 'png', 'gif', 'bmp'],\n",
    "    'doc': ['pdf', 'docx', 'txt', 'xlsx', 'odt'],\n",
    "    'audio': ['mp3', 'wav', 'flac']\n",
    "}\n",
    "# Lista per i file che non appartengono ad alcun gruppo\n",
    "others = \"others\"\n",
    "\n",
    "# Iterazione sui file nella cartella\n",
    "for file in folder_list:\n",
    "    file_path= os.path.join(folder_path, file)\n",
    "\n",
    "    # Escludi il file recap.csv dal processo\n",
    "    if file == \"recap.csv\":\n",
    "        continue\n",
    "\n",
    "    # Verifica se è un file\n",
    "    if os.path.isfile(file_path):\n",
    "        # Estrai l'estensione\n",
    "        name, extension= os.path.splitext(file)\n",
    "        extension=extension.lstrip('.').lower()\n",
    "        file_size=os.path.getsize(file_path)\n",
    "\n",
    "        # Trova il gruppo di estensioni a cui appartiene il file\n",
    "        file_type = others\n",
    "        for group, extensions in file_groups.items():\n",
    "            if extension in extensions:\n",
    "                file_type=group\n",
    "                break\n",
    "\n",
    "        # Creazione della sottocartella se non esiste\n",
    "        subfolder_path= os.path.join(folder_path, file_type)\n",
    "        if not os.path.exists(subfolder_path):\n",
    "            os.makedirs(subfolder_path)\n",
    "\n",
    "        # Sposta il file nella sottocartella\n",
    "        destination_path= os.path.join(subfolder_path, file)\n",
    "        shutil.move(file_path, destination_path)\n",
    "\n",
    "        # Aggiungi le informazioni al file recap.csv\n",
    "        with open(recap_file, mode='a', newline='', encoding='utf-8') as csvfile:\n",
    "            writer = csv.writer(csvfile)\n",
    "            writer.writerow([file, file_type, file_size])\n",
    "\n",
    "        # Stampa messaggio di conferma\n",
    "        print(f'\\nIl file:\\n {file}, tipo: {file_type}, size: {file_size} B\\n è stato spostato nella cartella: {file_type}')"
   ]
  },
  {
   "cell_type": "markdown",
   "metadata": {},
   "source": [
    "**Step 2**\n",
    "\n",
    "Creazione di un file eseguibile (*addfile.py*, situato nella stessa cartella del notebook) dotato di *interfaccia a linea di comando* (CLI)\n",
    "\n",
    "Lo scopo dell'eseguibile è spostare un *singolo* file (che si trova nella cartella files) nella sottocartella di competenza, aggiornando il file recap.csv\n",
    "\n",
    "L'interfaccia dell'eseguibile ha come unico argomento (obbligatorio) il nome del file da spostare, comprensivo di formato (*nome_file*).  \n",
    "Nel caso in cui il file passato come argomento non esiste, l'interfaccia lo comunica all'utente.\n"
   ]
  },
  {
   "cell_type": "markdown",
   "metadata": {},
   "source": [
    "**Step 3**\n",
    "\n",
    "Script che itera sulla sottocartella *img* e costruisce una tabella riassuntiva prodotta con la libreria *tabulate*.\n",
    "\n",
    "Oltre al nome del file, la tabella riporta:\n",
    "\n",
    "- altezza dell'immagine, in pixel\n",
    "- larghezza dell'immagine, in pixel\n",
    "- se l'immagine è in scala di grigio, la colonna *grayscale* indica la media dei valori dell'unico livello di colore\n",
    "- se l'immagine è a colori, le altre colonne indicano la media dei valori di ogni livello di colore (per RGB) e opacità (per RGBA)."
   ]
  },
  {
   "cell_type": "code",
   "execution_count": null,
   "metadata": {},
   "outputs": [],
   "source": [
    "from PIL import Image  # Libreria per la manipolazione di immagini\n",
    "import numpy as np  # Libreria per operazioni numeriche su array\n",
    "from tabulate import tabulate  # Libreria per creare tabelle formattate\n",
    "import os  # Libreria per operazioni sui file e sui percorsi\n",
    "\n",
    "# Percorso della directory contenente le immagini\n",
    "path0= os.path.join('files','img')\n",
    "lista_immagini= os.listdir(path0)\n",
    "\n",
    "# Intestazioni per la tabella dei risultati\n",
    "headers=['Nome file','Altezza (px)','Larghezza (px)','Grayscale, media','Rosso, media','Verde, media','Blu, media','Alpha, media']\n",
    "data=[] # Lista che conterrà i dati delle immagini\n",
    "\n",
    "# Iterazione su ciascun file nella directory\n",
    "for imm in lista_immagini:\n",
    "    img_path= os.path.join(path0, imm)      # Percorso completo dell'immagine\n",
    "    img= Image.open(img_path)       # Apertura dell'immagine utilizzando PIL\n",
    "    img_array= np.array(img)        # Conversione dell'immagine in un array NumPy per elaborazione\n",
    "    \n",
    "    if np.ndim(img_array)==3:   # Se l'immagine è a colori (3 dimensioni)\n",
    "        media_rosso = np.mean(img_array[:, :, 0])  # Media del canale Rosso\n",
    "        media_verde = np.mean(img_array[:, :, 1])  # Media del canale Verde\n",
    "        media_blu = np.mean(img_array[:, :, 2])    # Media del canale Blu\n",
    "\n",
    "        if img_array.shape[2]==4:      # Se l'immagine ha un canale alpha (RGBA)\n",
    "            media_alpha = np.mean(img_array[:,:,3])     # Media del canale Alpha\n",
    "            # Aggiungi i dati alla lista in formato RGBA\n",
    "            array= [imm, img_array.shape[0], img_array.shape[1], None, media_rosso, media_verde, media_blu, media_alpha]  \n",
    "        else:\n",
    "            # Aggiungi i dati alla lista in formato RGB\n",
    "            array= [imm, img_array.shape[0], img_array.shape[1],None,media_rosso, media_verde, media_blu]              \n",
    "    elif np.ndim(img_array)==2:     # Se l'immagine è in scala di grigi (2 dimensioni)\n",
    "        media_pixel= np.mean(img_array)     # Calcolo della media dei pixel\n",
    "        # Aggiungi i dati alla lista in formato Grayscale\n",
    "        array= [imm, img_array.shape[0], img_array.shape[1], media_pixel ]\n",
    "    else:   # Se l'immagine non è riconosciuta\n",
    "        print('Immagine non riconosciuta')\n",
    "        continue    # Salta questa immagine\n",
    "\n",
    "    # Aggiungi i dati raccolti alla lista principale\n",
    "    data.append(array)\n",
    "\n",
    "# Creazione della tabella utilizzando la libreria tabulate\n",
    "table= tabulate(data, headers=headers, tablefmt=\"grid\", floatfmt=\".2f\")\n",
    "print(table)   "
   ]
  }
 ],
 "metadata": {
  "kernelspec": {
   "display_name": "Python 3",
   "language": "python",
   "name": "python3"
  },
  "language_info": {
   "codemirror_mode": {
    "name": "ipython",
    "version": 3
   },
   "file_extension": ".py",
   "mimetype": "text/x-python",
   "name": "python",
   "nbconvert_exporter": "python",
   "pygments_lexer": "ipython3",
   "version": "3.13.1"
  }
 },
 "nbformat": 4,
 "nbformat_minor": 2
}
